{
 "cells": [
  {
   "cell_type": "code",
   "execution_count": 1,
   "metadata": {
    "collapsed": true
   },
   "outputs": [],
   "source": [
    "import numpy as np\n",
    "import matplotlib.pyplot as plt\n",
    "from sklearn.datasets import load_svmlight_file\n",
    "from sklearn.model_selection import train_test_split"
   ]
  },
  {
   "cell_type": "code",
   "execution_count": 2,
   "metadata": {
    "collapsed": true
   },
   "outputs": [],
   "source": [
    "data = load_svmlight_file(\"Housing\")\n",
    "X_train, X_test, y_train, y_test = train_test_split(data[0].todense(), data[1], test_size=0.33, random_state=42)"
   ]
  },
  {
   "cell_type": "code",
   "execution_count": 3,
   "metadata": {},
   "outputs": [],
   "source": [
    "b1 = np.ones(X_train.shape[0])\n",
    "X_train = np.c_[X_train,b1]\n",
    "b2 = np.ones(X_test.shape[0])\n",
    "X_test = np.c_[X_test,b2]"
   ]
  },
  {
   "cell_type": "code",
   "execution_count": 4,
   "metadata": {
    "collapsed": true
   },
   "outputs": [],
   "source": [
    "rate = 0.1\n",
    "iter = 100\n",
    "dimension = X_train.shape[1]"
   ]
  },
  {
   "cell_type": "code",
   "execution_count": 5,
   "metadata": {
    "collapsed": true
   },
   "outputs": [],
   "source": [
    "#w = np.zeros(dimension)                   #全零初始化\n",
    "w = np.random.normal(size = (dimension))   #正态分布初始化\n",
    "G = np.zeros(dimension)\n",
    "deviation_array = np.zeros(X_train.shape[0])"
   ]
  },
  {
   "cell_type": "code",
   "execution_count": 6,
   "metadata": {
    "collapsed": true
   },
   "outputs": [],
   "source": [
    "def linear_regression (X_train,y_train,X_test,y_test,w):   #L2 loss\n",
    "    train_loss = np.zeros(iter)\n",
    "    validation_loss = np.zeros(iter)\n",
    "    for i in range(iter):\n",
    "        #trainLoss\n",
    "        deviation_train = y_train.reshape(y_train.shape[0],1) - np.dot(X_train, w.reshape(dimension,1))\n",
    "        for j in range(deviation_train.shape[0]):\n",
    "            train_loss[i] = train_loss[i] + deviation_train[j] ** 2\n",
    "        train_loss[i] = train_loss[i] / deviation_train.shape[0]\n",
    "        #validationLoss\n",
    "        deviation_test = y_test.reshape(y_test.shape[0],1) - np.dot(X_test, w.reshape(dimension,1))\n",
    "        for j in range(deviation_test.shape[0]):\n",
    "            validation_loss[i] = validation_loss[i] + deviation_test[j] ** 2\n",
    "        validation_loss[i] = validation_loss[i] / deviation_test.shape[0]\n",
    "        #gradient descent\n",
    "        G = -np.dot(deviation_train.reshape(1,deviation_train.shape[0]), X_train / X_train.shape[0])\n",
    "        w = w - rate * G\n",
    "    return train_loss,validation_loss"
   ]
  },
  {
   "cell_type": "code",
   "execution_count": 7,
   "metadata": {},
   "outputs": [],
   "source": [
    "L_train, L_validation = linear_regression(X_train, y_train,X_test,y_test,w)"
   ]
  },
  {
   "cell_type": "code",
   "execution_count": 8,
   "metadata": {},
   "outputs": [
    {
     "data": {
      "image/png": "[encoded data removed]",
      "text/plain": [
       "<matplotlib.figure.Figure at 0x283b0a6fc88>"
      ]
     },
     "metadata": {},
     "output_type": "display_data"
    }
   ],
   "source": [
    "x = np.arange(iter)\n",
    "plt.plot(x, L_train.tolist())\n",
    "plt.show()"
   ]
  },
  {
   "cell_type": "code",
   "execution_count": 9,
   "metadata": {},
   "outputs": [
    {
     "data": {
      "image/png": "[encoded data removed]",
      "text/plain": [
       "<matplotlib.figure.Figure at 0x283b0a6f780>"
      ]
     },
     "metadata": {},
     "output_type": "display_data"
    }
   ],
   "source": [
    "plt.plot(x, L_validation.tolist())\n",
    "plt.show()"
   ]
  },
  {
   "cell_type": "code",
   "execution_count": null,
   "metadata": {
    "collapsed": true
   },
   "outputs": [],
   "source": []
  }
 ],
 "metadata": {
  "kernelspec": {
   "display_name": "Python 3",
   "language": "python",
   "name": "python3"
  },
  "language_info": {
   "codemirror_mode": {
    "name": "ipython",
    "version": 3
   },
   "file_extension": ".py",
   "mimetype": "text/x-python",
   "name": "python",
   "nbconvert_exporter": "python",
   "pygments_lexer": "ipython3",
   "version": "3.6.3"
  }
 },
 "nbformat": 4,
 "nbformat_minor": 2
}
