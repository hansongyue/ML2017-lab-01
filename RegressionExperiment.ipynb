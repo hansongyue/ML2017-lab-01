{
 "cells": [
  {
   "cell_type": "code",
   "execution_count": 1,
   "metadata": {
    "collapsed": true
   },
   "outputs": [],
   "source": [
    "import numpy as np\n",
    "import matplotlib.pyplot as plt\n",
    "from sklearn.datasets import load_svmlight_file\n",
    "from sklearn.model_selection import train_test_split"
   ]
  },
  {
   "cell_type": "code",
   "execution_count": 2,
   "metadata": {
    "collapsed": true
   },
   "outputs": [],
   "source": [
    "#读取数据，切分 训练集:验证集 = 2:1\n",
    "data = load_svmlight_file(\"Housing\")\n",
    "X_train, X_test, y_train, y_test = train_test_split(data[0].todense(), data[1], test_size=0.33, random_state=42)"
   ]
  },
  {
   "cell_type": "code",
   "execution_count": 3,
   "metadata": {
    "collapsed": true
   },
   "outputs": [],
   "source": [
    "#加一维，全置为1\n",
    "X_train = np.c_[X_train, np.ones(X_train.shape[0])]\n",
    "X_test = np.c_[X_test, np.ones(X_test.shape[0])]"
   ]
  },
  {
   "cell_type": "code",
   "execution_count": 4,
   "metadata": {
    "collapsed": true
   },
   "outputs": [],
   "source": [
    "rate = 0.1                       #步长\n",
    "iter = 100                       #迭代次数\n",
    "dimension = X_train.shape[1]     #维度数"
   ]
  },
  {
   "cell_type": "code",
   "execution_count": 5,
   "metadata": {
    "collapsed": true
   },
   "outputs": [],
   "source": [
    "#w = np.zeros(dimension)                      #全零初始化\n",
    "w = np.random.normal(size = (dimension))      #正态分布初始化\n",
    "G = np.zeros(dimension)                       #梯度\n",
    "deviation_array = np.zeros(X_train.shape[0])  #计算L2 loss用，存放label与预测值的差"
   ]
  },
  {
   "cell_type": "code",
   "execution_count": 6,
   "metadata": {
    "collapsed": true
   },
   "outputs": [],
   "source": [
    "#计算loss 进行梯度下降更新\n",
    "def linear_regression (X_train,y_train,X_test,y_test,w):   #L2 loss\n",
    "    train_loss = np.zeros(iter)        #初始化 存放训练集loss的向量\n",
    "    validation_loss = np.zeros(iter)   #初始化 存放验证集loss的向量\n",
    "    for i in range(iter):  #迭代iter次停止\n",
    "        #trainLoss\n",
    "        deviation_train = y_train.reshape(y_train.shape[0],1) - np.dot(X_train, w.reshape(dimension,1))   #存放label与预测值的差\n",
    "        for j in range(deviation_train.shape[0]):                      #求和所有记录的差的平方\n",
    "            train_loss[i] = train_loss[i] + deviation_train[j] ** 2\n",
    "        train_loss[i] = train_loss[i] / deviation_train.shape[0] / 2   #取平均再除以2 \n",
    "        #validationLoss\n",
    "        deviation_test = y_test.reshape(y_test.shape[0],1) - np.dot(X_test, w.reshape(dimension,1))    #存放label与预测值的差\n",
    "        for j in range(deviation_test.shape[0]):                                #求和所有记录的差的平方\n",
    "            validation_loss[i] = validation_loss[i] + deviation_test[j] ** 2\n",
    "        validation_loss[i] = validation_loss[i] / deviation_test.shape[0] / 2   #取平均再除以2 \n",
    "        #gradient descent\n",
    "        G = -np.dot(deviation_train.reshape(1,deviation_train.shape[0]), X_train / X_train.shape[0])    #求梯度G\n",
    "        w = w - rate * G              #更新w\n",
    "    return train_loss,validation_loss       #返回训练集loss和验证集loss"
   ]
  },
  {
   "cell_type": "code",
   "execution_count": 7,
   "metadata": {
    "collapsed": true
   },
   "outputs": [],
   "source": [
    "#调用函数\n",
    "L_train, L_validation = linear_regression(X_train, y_train,X_test,y_test,w)"
   ]
  },
  {
   "cell_type": "code",
   "execution_count": 9,
   "metadata": {},
   "outputs": [
    {
     "data": {
      "image/png": "[encoded data removed]",
      "text/plain": [
       "<matplotlib.figure.Figure at 0x23ca42ca198>"
      ]
     },
     "metadata": {},
     "output_type": "display_data"
    }
   ],
   "source": [
    "#loss图像\n",
    "x = np.arange(iter)\n",
    "\n",
    "plt.plot(x, L_train.tolist(), label='training loss')\n",
    "plt.plot(x, L_validation.tolist(), label='validation loss')\n",
    "\n",
    "plt.xlabel('iteration')\n",
    "plt.ylabel('loss')\n",
    "\n",
    "plt.title('Iteration-Loss')\n",
    "\n",
    "plt.legend()\n",
    "\n",
    "plt.show()"
   ]
  },
  {
   "cell_type": "code",
   "execution_count": null,
   "metadata": {
    "collapsed": true
   },
   "outputs": [],
   "source": []
  }
 ],
 "metadata": {
  "kernelspec": {
   "display_name": "Python 3",
   "language": "python",
   "name": "python3"
  },
  "language_info": {
   "codemirror_mode": {
    "name": "ipython",
    "version": 3
   },
   "file_extension": ".py",
   "mimetype": "text/x-python",
   "name": "python",
   "nbconvert_exporter": "python",
   "pygments_lexer": "ipython3",
   "version": "3.6.3"
  }
 },
 "nbformat": 4,
 "nbformat_minor": 2
}
