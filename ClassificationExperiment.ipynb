{
 "cells": [
  {
   "cell_type": "code",
   "execution_count": 1,
   "metadata": {
    "collapsed": true
   },
   "outputs": [],
   "source": [
    "import numpy as np\n",
    "import matplotlib.pyplot as plt\n",
    "from sklearn.datasets import load_svmlight_file\n",
    "from sklearn.model_selection import train_test_split"
   ]
  },
  {
   "cell_type": "code",
   "execution_count": 2,
   "metadata": {
    "collapsed": true
   },
   "outputs": [],
   "source": [
    "#读取数据，切分 训练集:验证集 = 3:1\n",
    "data = load_svmlight_file(\"australian.txt\")\n",
    "X_train, X_test, y_train, y_test = train_test_split(data[0].todense(), data[1], test_size=0.25, random_state=42)"
   ]
  },
  {
   "cell_type": "code",
   "execution_count": 3,
   "metadata": {
    "collapsed": true
   },
   "outputs": [],
   "source": [
    "#加一维，全置为1\n",
    "X_train = np.c_[X_train, np.ones(X_train.shape[0])]\n",
    "X_test = np.c_[X_test, np.ones(X_test.shape[0])]"
   ]
  },
  {
   "cell_type": "code",
   "execution_count": 4,
   "metadata": {
    "collapsed": true
   },
   "outputs": [],
   "source": [
    "rate = 0.0005                     #步长\n",
    "C = 1                             #hinge loss参数C\n",
    "iter = 200                        #迭代次数\n",
    "dimension = X_train.shape[1]      #维度数"
   ]
  },
  {
   "cell_type": "code",
   "execution_count": 5,
   "metadata": {
    "collapsed": true
   },
   "outputs": [],
   "source": [
    "#w = np.zeros(dimension)                   #全零初始化\n",
    "w = np.random.normal(size = (dimension))   #正态分布初始化\n",
    "G = np.zeros(dimension)                    #梯度G"
   ]
  },
  {
   "cell_type": "code",
   "execution_count": 6,
   "metadata": {
    "collapsed": true
   },
   "outputs": [],
   "source": [
    "#主函数\n",
    "def SVM (X_train, y_train, X_test, y_test, w):\n",
    "    train_loss = np.zeros(iter)           #初始化 存放训练集loss的向量\n",
    "    validation_loss = np.zeros(iter)      #初始化 存放验证集loss的向量\n",
    "    for i in range(iter):        #迭代iter次\n",
    "        hinge_loss_train = hinge_loss_f(X_train, y_train, w)                                      #调用函数hinge_loss_f计算训练集hinge loss\n",
    "        train_loss[i] = np.dot(w, w.reshape(dimension, 1)) / 2 + C * hinge_loss_train             #训练集loss = 间隔 + hinge loss\n",
    "        hinge_loss_validation = hinge_loss_f(X_test, y_test, w)                                   #调用函数hinge_loss_f计算验证集hinge loss\n",
    "        validation_loss[i] = np.dot(w, w.reshape(dimension, 1)) / 2 + C * hinge_loss_validation   #验证集loss = 间隔 + hinge loss\n",
    "        #gradient descent\n",
    "        G = derivative(X_train, y_train, w)          #调用函数derivative 计算梯度G\n",
    "        w = w - rate * G                             #梯度下降 更新w\n",
    "    return train_loss,validation_loss       #返回训练集loss和验证集loss"
   ]
  },
  {
   "cell_type": "code",
   "execution_count": 7,
   "metadata": {
    "collapsed": true
   },
   "outputs": [],
   "source": [
    "#计算hinge loss\n",
    "def hinge_loss_f (X, y, w):\n",
    "    loss = 0\n",
    "    for i in range(X.shape[0]):\n",
    "        judge = y[i] * np.dot(X[i], w.reshape(dimension, 1))    #分段函数 判断y * X * W与1的大小\n",
    "        if (judge >= 1):\n",
    "            loss = loss + 0                                     #大于1 hinge loss = 0\n",
    "        else:\n",
    "            loss = loss + 1 - judge                             #小于1 加上 1 - y * X * W\n",
    "    loss = loss / X.shape[0]                #loss取平均\n",
    "    return loss                             #返回hinge loss"
   ]
  },
  {
   "cell_type": "code",
   "execution_count": 8,
   "metadata": {
    "collapsed": true
   },
   "outputs": [],
   "source": [
    "#求梯度G\n",
    "def derivative (X, y, w):\n",
    "    g = np.zeros(X.shape[1])   #存放 hinge loss 的梯度\n",
    "    for i in range(X.shape[0]):   #对每一条记录迭代一次\n",
    "        judge = y[i] * np.dot(X[i], w.reshape(dimension, 1))   #分段函数 判断\n",
    "        if (judge < 1):               #小于1 则更新g 否则 g = g + 0\n",
    "            g = g - y[i] * X[i]\n",
    "    G = w + C * g              #计算梯度G\n",
    "    return G"
   ]
  },
  {
   "cell_type": "code",
   "execution_count": 9,
   "metadata": {
    "collapsed": true
   },
   "outputs": [],
   "source": [
    "#调用函数SVM\n",
    "L_train, L_validation = SVM(X_train, y_train, X_test, y_test, w)"
   ]
  },
  {
   "cell_type": "code",
   "execution_count": 10,
   "metadata": {},
   "outputs": [
    {
     "data": {
      "image/png": "[encoded data removed]",
      "text/plain": [
       "<matplotlib.figure.Figure at 0x26fd6d0b780>"
      ]
     },
     "metadata": {},
     "output_type": "display_data"
    }
   ],
   "source": [
    "#训练集loss图像\n",
    "x = np.arange(iter)\n",
    "plt.plot(x, L_train.tolist())\n",
    "plt.show()"
   ]
  },
  {
   "cell_type": "code",
   "execution_count": 11,
   "metadata": {},
   "outputs": [
    {
     "data": {
      "image/png": "[encoded data removed]",
      "text/plain": [
       "<matplotlib.figure.Figure at 0x26fd6d862b0>"
      ]
     },
     "metadata": {},
     "output_type": "display_data"
    }
   ],
   "source": [
    "#验证集loss图像\n",
    "plt.plot(x, L_validation.tolist())\n",
    "plt.show()"
   ]
  },
  {
   "cell_type": "code",
   "execution_count": null,
   "metadata": {
    "collapsed": true
   },
   "outputs": [],
   "source": []
  }
 ],
 "metadata": {
  "kernelspec": {
   "display_name": "Python 3",
   "language": "python",
   "name": "python3"
  },
  "language_info": {
   "codemirror_mode": {
    "name": "ipython",
    "version": 3
   },
   "file_extension": ".py",
   "mimetype": "text/x-python",
   "name": "python",
   "nbconvert_exporter": "python",
   "pygments_lexer": "ipython3",
   "version": "3.6.3"
  }
 },
 "nbformat": 4,
 "nbformat_minor": 2
}
